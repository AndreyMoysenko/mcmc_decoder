{
 "cells": [
  {
   "cell_type": "code",
   "execution_count": 1,
   "metadata": {},
   "outputs": [],
   "source": [
    "import numpy as np\n",
    "import scipy\n",
    "import scipy.stats\n",
    "\n",
    "import matplotlib.pyplot as plt\n",
    "\n",
    "%matplotlib inline\n",
    "\n",
    "from tqdm.auto import tqdm\n",
    "import string"
   ]
  },
  {
   "cell_type": "markdown",
   "metadata": {
    "colab_type": "text",
    "id": "lWSj-xmfGjPK"
   },
   "source": [
    "# Substitution Cipher\n",
    "\n",
    "In this task we will decrypt data that was scrambled using a Substitution Cipher. We assume that encryption key is unknown and we want to decrypt the data and read the code using recovered decryption key. [Introduction from here](http://statweb.stanford.edu/~cgates/PERSI/papers/MCMCRev.pdf) gives reference to the original task."
   ]
  },
  {
   "cell_type": "markdown",
   "metadata": {
    "colab_type": "text",
    "id": "lWSj-xmfGjPK"
   },
   "source": [
    "As verification we will take a piece from \"Alice's adventures in Wonderland\". We scramble data with a random encryption key, which we forgot after encrypting, and we would like to decrypt this encrypted text using MCMC Chains."
   ]
  },
  {
   "cell_type": "code",
   "execution_count": 2,
   "metadata": {},
   "outputs": [],
   "source": [
    "plain_text = \"\"\"\n",
    "Alice was beginning to get very tired of sitting by her sister on the bank, and of having nothing to do: once or twice she had peeped into the book her sister was reading, but it had no pictures or conversations in it, 'and what is the use of a book,' thought Alice 'without pictures or conversation?'\n",
    "So she was considering in her own mind (as well as she could, for the hot day made her feel very sleepy and stupid), whether the pleasure of making a daisy-chain would be worth the trouble of getting up and picking the daisies, when suddenly a White Rabbit with pink eyes ran close by her.\n",
    "There was nothing so very remarkable in that; nor did Alice think it so very much out of the way to hear the Rabbit say to itself, 'Oh dear! Oh dear! I shall be late!' (when she thought it over afterwards, it occurred to her that she ought to have wondered at this, but at the time it all seemed quite natural); but when the Rabbit actually took a watch out of its waistcoat-pocket, and looked at it, and then hurried on, Alice started to her feet, for it flashed across her mind that she had never before see a rabbit with either a waistcoat-pocket, or a watch to take out of it, and burning with curiosity, she ran across the field after it, and fortunately was just in time to see it pop down a large rabbit-hole under the hedge.\n",
    "In another moment down went Alice after it, never once considering how in the world she was to get out again.\n",
    "The rabbit-hole went straight on like a tunnel for some way, and then dipped suddenly down, so suddenly that Alice had not a moment to think about stopping herself before she found herself falling down a very deep well.\n",
    "\"\"\""
   ]
  },
  {
   "cell_type": "markdown",
   "metadata": {},
   "source": [
    "We will use 26 letters of English alphabet."
   ]
  },
  {
   "cell_type": "code",
   "execution_count": 3,
   "metadata": {},
   "outputs": [],
   "source": [
    "characters = string.ascii_lowercase\n",
    "characters_dict = {char : c for c, char in enumerate(characters, start=1)}\n",
    "m = len(characters) + 1"
   ]
  },
  {
   "cell_type": "markdown",
   "metadata": {},
   "source": [
    "## Generate random encryption key.\n",
    "\n",
    "Here are functions that will be used to encrypt/decrypt text."
   ]
  },
  {
   "cell_type": "code",
   "execution_count": 4,
   "metadata": {},
   "outputs": [],
   "source": [
    "def encode_text(text_to_encode, characters_dict):\n",
    "    \"\"\"This function turns a text string into an integer sequence using given dictionary.\"\"\"\n",
    "    characters_set = set(characters_dict.keys())\n",
    "    return np.r_[[characters_dict[char] if char in characters_set else 0 for char in text_to_encode.strip().lower()]]\n",
    "\n",
    "def decode_text(text_to_decode, characters):\n",
    "    \"\"\"This function turns an integer sequence into a text string using given list of characters.\"\"\"\n",
    "    characters_array = np.array([\" \"] + list(characters))\n",
    "    return \"\".join(characters_array[text_to_decode])\n",
    "\n",
    "def apply_cipher(text_as_int_array, cipher):\n",
    "    \"This function applies substitution cipher to an integer sequence.\"\n",
    "    return cipher[text_as_int_array]"
   ]
  },
  {
   "cell_type": "markdown",
   "metadata": {},
   "source": [
    "Generate encryption and decryption keys. They are just permutations of the alphabet."
   ]
  },
  {
   "cell_type": "code",
   "execution_count": 5,
   "metadata": {},
   "outputs": [],
   "source": [
    "np.random.seed(1234)\n",
    "\n",
    "encryption_indices = np.random.permutation(np.arange(m-1))\n",
    "decryption_indices = np.argsort(encryption_indices)\n",
    "\n",
    "characters_array = np.array(list(characters))\n",
    "encryption_key = \"\".join(characters_array[encryption_indices])\n",
    "decryption_key = \"\".join(characters_array[decryption_indices])"
   ]
  },
  {
   "cell_type": "markdown",
   "metadata": {},
   "source": [
    "Check encoding/decoding functions and encryption/decryption keys."
   ]
  },
  {
   "cell_type": "code",
   "execution_count": 6,
   "metadata": {},
   "outputs": [
    {
     "data": {
      "text/plain": [
       "'the quick brown fox jumps over the lazy dog'"
      ]
     },
     "execution_count": 6,
     "metadata": {},
     "output_type": "execute_result"
    }
   ],
   "source": [
    "encryption_key_encoded = np.r_[0, encode_text(encryption_key, characters_dict)]\n",
    "decryption_key_encoded = np.r_[0, encode_text(decryption_key, characters_dict)]\n",
    "\n",
    "text = \"The quick brown fox jumps over the lazy dog\"\n",
    "\n",
    "encoded_text = encode_text(text, characters_dict)\n",
    "cipher_text = apply_cipher(encoded_text, encryption_key_encoded)\n",
    "encoded_text = apply_cipher(cipher_text, decryption_key_encoded)\n",
    "decoded_text = decode_text(encoded_text, characters_dict)\n",
    "decoded_text"
   ]
  },
  {
   "cell_type": "markdown",
   "metadata": {},
   "source": [
    "Encrypt cipher text."
   ]
  },
  {
   "cell_type": "code",
   "execution_count": 7,
   "metadata": {},
   "outputs": [],
   "source": [
    "plain_text_encoded = encode_text(plain_text, characters_dict)\n",
    "cipher_text = apply_cipher(plain_text_encoded, encryption_key_encoded)"
   ]
  },
  {
   "cell_type": "markdown",
   "metadata": {},
   "source": [
    "## Collect frequences \n",
    "\n",
    "Collect frequences of two character combinations (bigrams) over large text corpus and from encrypted text. We will store them in a matrix and interpret it as a transition matrix: from the first character to the second."
   ]
  },
  {
   "cell_type": "code",
   "execution_count": 8,
   "metadata": {},
   "outputs": [],
   "source": [
    "def collect_transition_frequences(data, transition_matrix):\n",
    "    \"\"\"For a given integer sequence, which corresponds to some char sequence, \n",
    "       return transitions for adjacent values.\"\"\"\n",
    "    transitions = data.repeat(2)[1:-1].reshape(-1, 2)\n",
    "    for i, j in transitions:\n",
    "        transition_matrix[i, j] += 1\n",
    "    \n",
    "    return transition_matrix\n",
    "\n",
    "def collect_empirical_frequences(filename, characters_dict, m):\n",
    "    \"\"\"Collect frequences over large text corpus, return transition matrix.\"\"\"\n",
    "    transition_matrix = np.zeros((m, m))\n",
    "    with open(filename) as f:\n",
    "        for line in f:\n",
    "            line_encoded = encode_text(line, characters_dict)\n",
    "            if line_encoded.size > 1:\n",
    "                transition_matrix = collect_transition_frequences(line_encoded, transition_matrix)\n",
    "                \n",
    "    return transition_matrix\n",
    "\n",
    "def collect_observed_frequences(cipher_text, characters_dict, m):\n",
    "    \"\"\"Collect frequences over encrypted text, return nonzero indices of \n",
    "       transition matrix for both dimentions and values for those indices.\n",
    "       `values = transition_matrix[indices_1, indices_2]`\"\"\"\n",
    "    transition_matrix = np.zeros((m, m))\n",
    "    transition_matrix = collect_transition_frequences(cipher_text, transition_matrix)\n",
    "    \n",
    "    return transition_matrix"
   ]
  },
  {
   "cell_type": "markdown",
   "metadata": {},
   "source": [
    "Collect frequences."
   ]
  },
  {
   "cell_type": "code",
   "execution_count": 9,
   "metadata": {},
   "outputs": [],
   "source": [
    "empirical_frequences = collect_empirical_frequences('war_and_peace.txt', characters_dict, m)\n",
    "observed_frequences = collect_observed_frequences(cipher_text, characters_dict, m)"
   ]
  },
  {
   "cell_type": "markdown",
   "metadata": {
    "tags": []
   },
   "source": [
    "## General algorithm"
   ]
  },
  {
   "cell_type": "markdown",
   "metadata": {
    "colab_type": "text",
    "id": "yjedc-_xGjPO"
   },
   "source": [
    "Our Chain will include states that are permutations of the substitution cipher. Algorithm has following steps:\n",
    "\n",
    "1. Start by picking up a random current state. \n",
    "2. Create a proposal for a new state by swapping two or more random letters in the current state.\n",
    "3. Use a Scoring Function which calculates the score of the current state $Score_{old}$ and the proposed state $Score_{new}$.\n",
    "4. If the score of the proposed state is more than current state, Move to Proposed State.\n",
    "5. Else flip a coin which has a probability of Heads $\\frac{Score_{new}}{Score_{old}}$  . If it comes heads move to proposed State.\n",
    "6. Repeat from Step 2.\n",
    "\n",
    "We want ot reach a steady state where the chain has the stationary distribution of the needed states. This state of chain could be used as a solution.\n",
    "\n",
    "Your goal is to implement steps 2 and 3 (see the templates below)."
   ]
  },
  {
   "cell_type": "markdown",
   "metadata": {},
   "source": [
    "## Step 2: Prepare sampling function."
   ]
  },
  {
   "cell_type": "markdown",
   "metadata": {
    "colab_type": "text",
    "id": "yjedc-_xGjPO"
   },
   "source": [
    "\n",
    "\n",
    "To generate a new proposed cipher we randomly select several positions and swap values at those positions. It corresponds to change in seveal mappings of encrypted characters in decrypted ones. Example with 2 swaps.\n",
    "\n",
    "was|now\n",
    "-|-\n",
    "A -> B | A -> B\n",
    "B -> C | B -> C\n",
    "C -> D | C -> A\n",
    "D -> A | D -> D"
   ]
  },
  {
   "cell_type": "code",
   "execution_count": 10,
   "metadata": {},
   "outputs": [],
   "source": [
    "def generate_cipher(cipher, m, size=2):\n",
    "    \"\"\"Swap two or more random positions in cipher.\n",
    "        \n",
    "        cipher, np.array - current mapping from value(int) in encrypted text (index of array cell) into value(int) in decrypted text(value of array cell).\n",
    "        m, int - capacity of used alphabet,\n",
    "        size, int - number of positions to change.\n",
    "    \"\"\"\n",
    "    \n",
    "    # Your code here\n",
    "    ids_to_change = list(range(len(cipher)))\n",
    "    new_cipher = cipher.copy()\n",
    "    \n",
    "    while size > 0 and len(ids_to_change) > 1:\n",
    "        ix1, ix2 = np.random.choice(ids_to_change, 2)\n",
    "        new_cipher[[ix1, ix2]] = new_cipher[[ix2, ix1]]\n",
    "        ids_to_change = [i for i in ids_to_change if i not in [ix2, ix1]]\n",
    "        size -= 1\n",
    "    \n",
    "    return new_cipher"
   ]
  },
  {
   "cell_type": "markdown",
   "metadata": {},
   "source": [
    "## Step 3: Prepare scoring function."
   ]
  },
  {
   "cell_type": "markdown",
   "metadata": {
    "colab_type": "text",
    "id": "siBVVI9ZGjPP"
   },
   "source": [
    "We want to use a scoring function for each state(Decryption key) which assigns a positive score to each decryption key. This score intuitively should be larger if the encrypted text looks more like actual english, when decrypted using this decryption key. We will check a large text and calculate frequences: how many times one character comes after another in a large text like \"War and Peace\".\n",
    "\n",
    "For each pair of characters $\\beta_1$ and $\\beta_2$ (e.g. $\\beta_1$ = A and $\\beta_2$ = B), we let $R(\\beta_1,\\beta_2)$ record the number of times that specific pair(e.g. \"AB\") appears consecutively in the reference text.\n",
    "\n",
    "Similarly, for a considered decryption key $x$, we let $F_x(\\beta_1,\\beta_2)$ record the number of times that\n",
    "pair appears when the cipher text is decrypted using the decryption key $x$.\n",
    "\n",
    "We then Score a particular decryption key $x$ using:\n",
    "\n",
    "$$Score(x) = \\prod R(\\beta_1,\\beta_2)^{F_x(\\beta_1,\\beta_2)}$$\n",
    "    \n",
    "To make life easier with calculations we will calculate $log(Score(x))$"
   ]
  },
  {
   "cell_type": "markdown",
   "metadata": {},
   "source": [
    "Now, you need to implement scoring function. As input it takes \n",
    "- `cipher`: mapping between encrypted characters and decrypted characters,\n",
    "- `observed_frequences`: transition matrix for cipher text, matrix representation of $F_x(\\beta_1,\\beta_2)$,\n",
    "- `empirical_frequences`: transition matrix for large text, matrix representation of $R(\\beta_1,\\beta_2)$.\n",
    "\n",
    "Scoring function returns $log(Score(x))$. You need correctly process zero values in transition matrices while calculating the score."
   ]
  },
  {
   "cell_type": "code",
   "execution_count": 11,
   "metadata": {},
   "outputs": [],
   "source": [
    "def score_cipher(cipher, observed_frequences, empirical_frequences):\n",
    "    \n",
    "    # Your code here\n",
    "    score = 0\n",
    "    for i in range(len(cipher)):\n",
    "        for j in range(len(cipher)):\n",
    "            R_freq = empirical_frequences[i, j]\n",
    "            F_freq = observed_frequences[cipher[i], cipher[j]]\n",
    "            score += F_freq * np.log(R_freq + 1) #add 1 to avoid log(0)\n",
    "    \n",
    "    return score"
   ]
  },
  {
   "cell_type": "markdown",
   "metadata": {},
   "source": [
    "**Note from Andrei Moisenko:** here I test scoring function, passing 1- and 15-step cipher to un-encoded text to see score difference."
   ]
  },
  {
   "cell_type": "code",
   "execution_count": 12,
   "metadata": {},
   "outputs": [
    {
     "name": "stdout",
     "output_type": "stream",
     "text": [
      "Score after single permutation:\t356\n",
      "Score after 15 permutations:\t252\n"
     ]
    }
   ],
   "source": [
    "test_cipher_real = np.arange(m)\n",
    "test_cipher_1step = generate_cipher(test_cipher_real, m, size=1)\n",
    "test_cipher_15step = generate_cipher(test_cipher_real, m, size=15)\n",
    "\n",
    "test_observed_frequences_real = collect_observed_frequences(encoded_text, characters_dict, m)\n",
    "\n",
    "score_1step = score_cipher(test_cipher_1step, test_observed_frequences_real, empirical_frequences)\n",
    "score_15step = score_cipher(test_cipher_15step, test_observed_frequences_real, empirical_frequences)\n",
    "\n",
    "print(f'Score after single permutation:\\t{score_1step:.0f}')\n",
    "print(f'Score after 15 permutations:\\t{score_15step:.0f}')"
   ]
  },
  {
   "cell_type": "markdown",
   "metadata": {},
   "source": [
    "**Note from Andrei Moisenko:** as expected, the more cipher is different from the true one, the less the score is. Seems like our scoring function works correctly."
   ]
  },
  {
   "cell_type": "markdown",
   "metadata": {
    "tags": []
   },
   "source": [
    "## Decryption\n",
    "\n",
    "Now we a ready to decrypt cipher text."
   ]
  },
  {
   "cell_type": "code",
   "execution_count": 13,
   "metadata": {},
   "outputs": [],
   "source": [
    "def decrypting(observed_frequences, empirical_frequences, n_iters, m, step_size, seed, print_it=1000):\n",
    "    \"\"\"This function finds most suited decrypting cipher(1D np.array).\n",
    "        observed_frequences, 2D np.array - transition matrix with frequences for cipher text,\n",
    "        empirical_frequences, 2D np.array - transition matrix with frequences for large text,\n",
    "        n_iters, int - number of MCMC iterations,\n",
    "        step_size, int - number of changes in cipher per one iteration,\n",
    "        seed, int - seed for random generator,\n",
    "        print_it, int - print decrypted text every `print_it` iterations.\n",
    "    \"\"\"\n",
    "\n",
    "    np.random.seed(seed)\n",
    "\n",
    "    # 1. Start by picking up a random current state. \n",
    "    cipher_old = np.arange(m)\n",
    "    score_cipher_old = score_cipher(cipher_old, observed_frequences, empirical_frequences)\n",
    "    best_state, score = cipher_old, score_cipher_old\n",
    "\n",
    "    for i in tqdm(range(1, n_iters+1)):\n",
    "\n",
    "        # 2. Create a proposal for a new state by swapping two or more random letters in the current state.\n",
    "        cipher_new = generate_cipher(cipher_old, m, size=step_size)\n",
    "\n",
    "        # 3. Use a Scoring Function which calculates the score of the current state $Score_{old}$ and the proposed State $Score_{new}$.\n",
    "        score_cipher_new = score_cipher(cipher_new, observed_frequences, empirical_frequences)\n",
    "        acceptance_probability = np.min((1, np.exp(score_cipher_new - score_cipher_old)))\n",
    "\n",
    "        # 4. If the score of the proposed state is more than current state, Move to Proposed State.\n",
    "        # 5. Else flip a coin which has a probability of Heads $Score_{new}/Score_{old}$. If it comes heads move to proposed State.\n",
    "        if score_cipher_old > score:\n",
    "            best_state, score = cipher_old, score_cipher_old\n",
    "            \n",
    "        if acceptance_probability > np.random.uniform(0,1):\n",
    "            cipher_old, score_cipher_old = cipher_new, score_cipher_new\n",
    "        if i % print_it == 0:\n",
    "            print(f\"iter {i}: {decode_text(apply_cipher(cipher_text[0:99], cipher_old), characters)}\")\n",
    "\n",
    "    return best_state"
   ]
  },
  {
   "cell_type": "markdown",
   "metadata": {},
   "source": [
    "**Note from Andrei Moisenko:** decrypting function contained several errors and inefficiencies, so I corrected it"
   ]
  },
  {
   "cell_type": "code",
   "execution_count": 14,
   "metadata": {},
   "outputs": [],
   "source": [
    "def decrypting_correct(observed_frequences, empirical_frequences, n_iters, m, step_size, seed, print_it=1000):\n",
    "    \"\"\"This function finds most suited decrypting cipher(1D np.array).\n",
    "        observed_frequences, 2D np.array - transition matrix with frequences for cipher text,\n",
    "        empirical_frequences, 2D np.array - transition matrix with frequences for large text,\n",
    "        n_iters, int - number of MCMC iterations,\n",
    "        step_size, int - number of changes in cipher per one iteration,\n",
    "        seed, int - seed for random generator,\n",
    "        print_it, int - print decrypted text every `print_it` iterations.\n",
    "    \"\"\"\n",
    "\n",
    "    np.random.seed(seed)\n",
    "    \n",
    "    best_state = np.arange(m)\n",
    "    best_score = score_cipher(best_state, observed_frequences, empirical_frequences)\n",
    "\n",
    "    for i in tqdm(range(1, n_iters+1)):\n",
    "\n",
    "        cipher_new = generate_cipher(best_state, m, size=step_size)\n",
    "        score_cipher_new = score_cipher(cipher_new, observed_frequences, empirical_frequences)\n",
    "        acceptance_prob = min(1, np.exp(score_cipher_new - best_score))\n",
    "        \n",
    "        if  np.random.choice([True, False], p=[acceptance_prob, 1-acceptance_prob]):\n",
    "            best_state, best_score = cipher_new, score_cipher_new\n",
    "            \n",
    "        if i % print_it == 0 or i==1:\n",
    "            print(f\"iter {i}: {decode_text(apply_cipher(cipher_text[0:99], best_state), characters)}\", round(best_score))\n",
    "\n",
    "    return best_state"
   ]
  },
  {
   "cell_type": "markdown",
   "metadata": {},
   "source": [
    "**Note from Andrei Moisenko:** I greatly increased number of iterations and still current MCMC decoder fails to solve the task even in 8.5 minutes and 500 000 iterations."
   ]
  },
  {
   "cell_type": "code",
   "execution_count": 15,
   "metadata": {},
   "outputs": [
    {
     "data": {
      "application/vnd.jupyter.widget-view+json": {
       "model_id": "4bcf57cc735249ba8e0f841c5088acd1",
       "version_major": 2,
       "version_minor": 0
      },
      "text/plain": [
       "  0%|          | 0/500000 [00:00<?, ?it/s]"
      ]
     },
     "metadata": {},
     "output_type": "display_data"
    },
    {
     "name": "stdout",
     "output_type": "stream",
     "text": [
      "iter 1: hpacb vhr qbfayyayf zw fbz dbio zaibm ws razzayf qo ebi rarzbi wy zeb qhyn  hym ws ehdayf ywzeayf z 11002\n"
     ]
    },
    {
     "name": "stderr",
     "output_type": "stream",
     "text": [
      "/var/folders/sv/2km52mqj29qc51s4p_b4vq4c0000gn/T/ipykernel_34413/4028872446.py:20: RuntimeWarning: overflow encountered in exp\n",
      "  acceptance_prob = min(1, np.exp(score_cipher_new - best_score))\n"
     ]
    },
    {
     "name": "stdout",
     "output_type": "stream",
     "text": [
      "iter 10000: elhvs fex gsrhnnhnr mo rsm ksiz mhisd oj xhmmhnr gz bsi xhxmsi on mbs geny  end oj bekhnr nombhnr m 15548\n",
      "iter 20000: eihsc nej pcvhmmhmv lk vcl ocgz lhgcd kr jhllhmv pz bcg jhjlcg km lbc pemx  emd kr beohmv mklbhmv l 15775\n",
      "iter 30000: eihnc vej pcmhsshsm gk mcg qclz ghlcd kr jhgghsm pz bcl jhjgcl ks gbc pesy  esd kr beqhsm skgbhsm g 15838\n",
      "iter 40000: eihvc nej pcshmmhms ok sco qclz ohlcd kr jhoohms pz bcl jhjocl km obc pemy  emd kr beqhms mkobhms o 15847\n",
      "iter 50000: eihkc sej pcnhmmhmn ov nco qclz ohlcd vr jhoohmn pz bcl jhjocl vm obc pemy  emd vr beqhmn mvobhmn o 15860\n",
      "iter 60000: eghcv mej pvthsshst ik tvi qvlz ihlvd kr jhiihst pz bvl jhjivl ks ibv pesy  esd kr beqhst skibhst i 15961\n",
      "iter 70000: eghnm kej pmshtthts ov smo qmlz ohlmd vr jhoohts pz bml jhjoml vt obm pety  etd vr beqhts tvobhts o 16020\n",
      "iter 80000: eghfm kej pmshtthts ov smo qmlz ohlmd vr jhoohts pz bml jhjoml vt obm pety  etd vr beqhts tvobhts o 16048\n",
      "iter 90000: eghcm oej pmshtthts lv sml qmkz lhkmd vr jhllhts pz bmk jhjlmk vt lbm pety  etd vr beqhts tvlbhts l 16182\n",
      "iter 100000: eghcm oej pmshtthts lv sml qmkz lhkmd vr jhllhts pz bmk jhjlmk vt lbm pety  etd vr beqhts tvlbhts l 16182\n",
      "iter 110000: eghcm oej pmshtthts lv sml qmkz lhkmd vr jhllhts pz bmk jhjlmk vt lbm pety  etd vr beqhts tvlbhts l 16182\n",
      "iter 120000: eghcm oej pmshtthts lv sml qmkz lhkmd vr jhllhts pz bmk jhjlmk vt lbm pety  etd vr beqhts tvlbhts l 16182\n",
      "iter 130000: eghcm oej pmshtthts lv sml qmkz lhkmd vr jhllhts pz bmk jhjlmk vt lbm pety  etd vr beqhts tvlbhts l 16182\n",
      "iter 140000: eghcm oej pmshtthts lv sml qmkz lhkmd vr jhllhts pz bmk jhjlmk vt lbm pety  etd vr beqhts tvlbhts l 16182\n",
      "iter 150000: eghco mej poshnnhns lv sol qoiz lhiod vr jhllhns pz boi jhjloi vn lbo peny  end vr beqhns nvlbhns l 16200\n",
      "iter 160000: eghco mej poshnnhns lv sol qoiz lhiod vr jhllhns pz boi jhjloi vn lbo peny  end vr beqhns nvlbhns l 16200\n",
      "iter 170000: eghco mej poshnnhns lv sol qoiz lhiod vr jhllhns pz boi jhjloi vn lbo peny  end vr beqhns nvlbhns l 16200\n",
      "iter 180000: eghco mej poshnnhns lv sol qoiz lhiod vr jhllhns pz boi jhjloi vn lbo peny  end vr beqhns nvlbhns l 16200\n",
      "iter 190000: eghco mej poshnnhns lv sol qoiz lhiod vr jhllhns pz boi jhjloi vn lbo peny  end vr beqhns nvlbhns l 16200\n",
      "iter 200000: eghco mej poshnnhns lv sol qoiz lhiod vr jhllhns pz boi jhjloi vn lbo peny  end vr beqhns nvlbhns l 16200\n",
      "iter 210000: eghco mej poshnnhns lv sol qoiz lhiod vr jhllhns pz boi jhjloi vn lbo peny  end vr beqhns nvlbhns l 16200\n",
      "iter 220000: emhco gej poshtthts lv sol qoiz lhiod vr jhllhts pz boi jhjloi vt lbo pety  etd vr beqhts tvlbhts l 16214\n",
      "iter 230000: emhco gej poshtthts lv sol qoiz lhiod vr jhllhts pz boi jhjloi vt lbo pety  etd vr beqhts tvlbhts l 16214\n",
      "iter 240000: emhco gej poshtthts lv sol qoiz lhiod vr jhllhts pz boi jhjloi vt lbo pety  etd vr beqhts tvlbhts l 16214\n",
      "iter 250000: emhco gej poshtthts lv sol qoiz lhiod vr jhllhts pz boi jhjloi vt lbo pety  etd vr beqhts tvlbhts l 16214\n",
      "iter 260000: emhco gej poshtthts lv sol qoiz lhiod vr jhllhts pz boi jhjloi vt lbo pety  etd vr beqhts tvlbhts l 16214\n",
      "iter 270000: emhco gej poshtthts lv sol qoiz lhiod vr jhllhts pz boi jhjloi vt lbo pety  etd vr beqhts tvlbhts l 16214\n",
      "iter 280000: emhco gej poshtthts lv sol qoiz lhiod vr jhllhts pz boi jhjloi vt lbo pety  etd vr beqhts tvlbhts l 16214\n",
      "iter 290000: emhco gej poshtthts lv sol qoiz lhiod vr jhllhts pz boi jhjloi vt lbo pety  etd vr beqhts tvlbhts l 16214\n",
      "iter 300000: emhco gej poshtthts lv sol qoiz lhiod vr jhllhts pz boi jhjloi vt lbo pety  etd vr beqhts tvlbhts l 16214\n",
      "iter 310000: emhco gej poshtthts lv sol qoiz lhiod vr jhllhts pz boi jhjloi vt lbo pety  etd vr beqhts tvlbhts l 16214\n",
      "iter 320000: emhco gej poshtthts lv sol qoiz lhiod vr jhllhts pz boi jhjloi vt lbo pety  etd vr beqhts tvlbhts l 16214\n",
      "iter 330000: emhco gej poshtthts lv sol qoiz lhiod vr jhllhts pz boi jhjloi vt lbo pety  etd vr beqhts tvlbhts l 16214\n",
      "iter 340000: emhco gej poshtthts lv sol qoiz lhiod vr jhllhts pz boi jhjloi vt lbo pety  etd vr beqhts tvlbhts l 16214\n",
      "iter 350000: emhco gej poshtthts lv sol qoiz lhiod vr jhllhts pz boi jhjloi vt lbo pety  etd vr beqhts tvlbhts l 16214\n",
      "iter 360000: emhco gej poshtthts lv sol qoiz lhiod vr jhllhts pz boi jhjloi vt lbo pety  etd vr beqhts tvlbhts l 16214\n",
      "iter 370000: emhco gej poshtthts lv sol qoiz lhiod vr jhllhts pz boi jhjloi vt lbo pety  etd vr beqhts tvlbhts l 16214\n",
      "iter 380000: emhco gej poshtthts lv sol qoiz lhiod vr jhllhts pz boi jhjloi vt lbo pety  etd vr beqhts tvlbhts l 16214\n",
      "iter 390000: emhco gej poshtthts lv sol qoiz lhiod vr jhllhts pz boi jhjloi vt lbo pety  etd vr beqhts tvlbhts l 16214\n",
      "iter 400000: emhco gej poshtthts lv sol qoiz lhiod vr jhllhts pz boi jhjloi vt lbo pety  etd vr beqhts tvlbhts l 16214\n",
      "iter 410000: emhco gej poshtthts lv sol qoiz lhiod vr jhllhts pz boi jhjloi vt lbo pety  etd vr beqhts tvlbhts l 16214\n",
      "iter 420000: emhco gej poshtthts lv sol qoiz lhiod vr jhllhts pz boi jhjloi vt lbo pety  etd vr beqhts tvlbhts l 16214\n",
      "iter 430000: emhco gej poshtthts lv sol qoiz lhiod vr jhllhts pz boi jhjloi vt lbo pety  etd vr beqhts tvlbhts l 16214\n",
      "iter 440000: emhco gej poshtthts lv sol qoiz lhiod vr jhllhts pz boi jhjloi vt lbo pety  etd vr beqhts tvlbhts l 16214\n",
      "iter 450000: eghco mej poshtthts lv sol qoiz lhiod vr jhllhts pz boi jhjloi vt lbo pety  etd vr beqhts tvlbhts l 16291\n",
      "iter 460000: eghco mej ioshtthts lv sol qopz lhpod vr jhllhts iz bop jhjlop vt lbo iety  etd vr beqhts tvlbhts l 16292\n",
      "iter 470000: elhcq mej iqshtthts gv sqg oqpz ghpqd vr jhgghts iz bqp jhjgqp vt gbq iety  etd vr beohts tvgbhts g 16318\n",
      "iter 480000: elhcq mej iqshtthts gv sqg oqpz ghpqd vr jhgghts iz bqp jhjgqp vt gbq iety  etd vr beohts tvgbhts g 16318\n",
      "iter 490000: elhcq mej iqshtthts gv sqg oqpz ghpqd vr jhgghts iz bqp jhjgqp vt gbq iety  etd vr beohts tvgbhts g 16318\n",
      "iter 500000: elhcq mej iqshtthts gv sqg oqpz ghpqd vr jhgghts iz bqp jhjgqp vt gbq iety  etd vr beohts tvgbhts g 16318\n",
      "\n",
      "Decoded Text: elhcq mej iqshtthts gv sqg oqpz ghpqd vr jhgghts iz bqp jhjgqp vt gbq iety  etd vr beohts tvgbhts gv dv  vtcq vp gmhcq jbq bed wqqwqd htgv gbq ivvy bqp jhjgqp mej pqedhts  iug hg bed tv whcgupqj vp cvtoqpjeghvtj ht hg   etd mbeg hj gbq ujq vr e ivvy   gbvusbg elhcq  mhgbvug whcgupqj vp cvtoqpjeghvt   jv jbq mej cvtjhdqphts ht bqp vmt nhtd  ej mqll ej jbq cvuld  rvp gbq bvg dez nedq bqp rqql oqpz jlqqwz etd jguwhd   mbqgbqp gbq wlqejupq vr neyhts e dehjz cbeht mvuld iq mvpgb gbq gpvuilq vr sqgghts uw etd whcyhts gbq dehjhqj  mbqt juddqtlz e mbhgq peiihg mhgb whty qzqj pet clvjq iz bqp  gbqpq mej tvgbhts jv oqpz pqnepyeilq ht gbeg  tvp dhd elhcq gbhty hg jv oqpz nucb vug vr gbq mez gv bqep gbq peiihg jez gv hgjqlr   vb dqep  vb dqep  h jbell iq legq    mbqt jbq gbvusbg hg voqp ergqpmepdj  hg vccuppqd gv bqp gbeg jbq vusbg gv beoq mvtdqpqd eg gbhj  iug eg gbq ghnq hg ell jqqnqd xuhgq tegupel   iug mbqt gbq peiihg ecguellz gvvy e megcb vug vr hgj mehjgcveg wvcyqg  etd lvvyqd eg hg  etd gbqt bupphqd vt  elhcq jgepgqd gv bqp rqqg  rvp hg rlejbqd ecpvjj bqp nhtd gbeg jbq bed tqoqp iqrvpq jqq e peiihg mhgb qhgbqp e mehjgcveg wvcyqg  vp e megcb gv geyq vug vr hg  etd iupthts mhgb cuphvjhgz  jbq pet ecpvjj gbq rhqld ergqp hg  etd rvpgutegqlz mej aujg ht ghnq gv jqq hg wvw dvmt e lepsq peiihg bvlq utdqp gbq bqdsq  ht etvgbqp nvnqtg dvmt mqtg elhcq ergqp hg  tqoqp vtcq cvtjhdqphts bvm ht gbq mvpld jbq mej gv sqg vug eseht  gbq peiihg bvlq mqtg jgpehsbg vt lhyq e guttql rvp jvnq mez  etd gbqt dhwwqd juddqtlz dvmt  jv juddqtlz gbeg elhcq bed tvg e nvnqtg gv gbhty eivug jgvwwhts bqpjqlr iqrvpq jbq rvutd bqpjqlr rellhts dvmt e oqpz dqqw mqll \n",
      "\n",
      "MCMC KEY  : hqcdbsfeapnxoywkijrzumvltg\n",
      "ACTual KEY: iecdhgxajrmqvkpzbsfyuwolnt\n"
     ]
    }
   ],
   "source": [
    "decrypt_cipher = decrypting_correct(observed_frequences, empirical_frequences, 500000, m, 4, 345, 10000)\n",
    "\n",
    "print(\n",
    "    f\"\\nDecoded Text: {decode_text(apply_cipher(cipher_text, decrypt_cipher), characters)}\\n\\n\"\n",
    "    f\"MCMC KEY  : {''.join(characters_array[decrypt_cipher[1:]-1])}\\n\"\n",
    "    f\"ACTual KEY: {decryption_key}\"\n",
    ")"
   ]
  },
  {
   "cell_type": "markdown",
   "metadata": {},
   "source": [
    "## Working Solution  \n",
    "_By Andrei Moisenko_"
   ]
  },
  {
   "cell_type": "markdown",
   "metadata": {},
   "source": [
    "I could just leave this failed decoder as it is, but it was interesting for me to try creating a working MCMC decoder using the same bigrams idea.  \n",
    "  \n",
    "Major differences to the approach above:  \n",
    "- empirical frequences are normalized, which helps more smooth and fast training\n",
    "- hash tables instead of arrays to improve code time complexity\n",
    "- random cifer initiation for MCMC process"
   ]
  },
  {
   "cell_type": "code",
   "execution_count": 20,
   "metadata": {},
   "outputs": [],
   "source": [
    "import random, re, string\n",
    "import numpy as np\n",
    "\n",
    "\n",
    "class EnigmaForDummies:\n",
    "    def __init__(self) -> None:\n",
    "        self.emp_freq_prepared = False\n",
    "        self.regex_pattern = re.compile(\"[^a-z ]\")\n",
    "        self.alphabet = \" \" + string.ascii_lowercase\n",
    "        self.char_index_mapping = dict(\n",
    "            zip(list(self.alphabet), range(len(self.alphabet)))\n",
    "        )\n",
    "\n",
    "    def encrypt_or_decrypt(self, text: str, mapping: dict) -> str:\n",
    "        \"\"\"Transform text using mapping dictionary\n",
    "\n",
    "        Args:\n",
    "            text (str): text_to_transform\n",
    "            mapping (dict): mapping dictionary for symbols transformation\n",
    "\n",
    "        Returns:\n",
    "            str: transformed text\n",
    "        \"\"\"\n",
    "        return \"\".join([mapping[s] for s in text])\n",
    "\n",
    "    def prepare_empirical_freq_normalized(self, path_to_file: str) -> None:\n",
    "        \"\"\"Prepare dictionary of normalized empirical frequences from provided corpus\n",
    "\n",
    "        Args:\n",
    "            path_to_file (str): path to corpus text file\n",
    "        \"\"\"\n",
    "        # Dictionary to store bigram pairs counts\n",
    "        char_bigram_counts = {}\n",
    "\n",
    "        with open(path_to_file, encoding=\"utf-8\") as f:\n",
    "            for line in f:\n",
    "                # pre-process line\n",
    "                clean_line = np.array(list(self.regex_pattern.sub(\"\", line.lower())))\n",
    "\n",
    "                # create symbols transition array\n",
    "                transitions = clean_line.repeat(2)[1:-1].reshape(-1, 2)\n",
    "\n",
    "                # count every symbols transition met in line\n",
    "                for i, j in transitions:\n",
    "                    char_bigram_counts[(i, j)] = (\n",
    "                        char_bigram_counts.setdefault((i, j), 0) + 1\n",
    "                    )\n",
    "\n",
    "        # create letters encoder\n",
    "        letters = [\" \"] + list(string.ascii_lowercase)\n",
    "        unigram_to_index = dict(zip(letters, range(len(letters))))\n",
    "\n",
    "        # Create transition matrix\n",
    "        n = len(unigram_to_index)\n",
    "        transition_matrix = np.ones((n, n)) + 1\n",
    "\n",
    "        # fill in transition matrix for each pair\n",
    "        for s_pair in char_bigram_counts.keys():\n",
    "            transition_matrix[unigram_to_index[s_pair[0]]][\n",
    "                unigram_to_index[s_pair[1]]\n",
    "            ] = char_bigram_counts[s_pair]\n",
    "\n",
    "        # normalize matrix rows\n",
    "        row_sums = transition_matrix.sum(axis=1)\n",
    "        self.empirical_frequences = transition_matrix / row_sums[:, np.newaxis]\n",
    "        self.emp_freq_prepared = True\n",
    "\n",
    "    def encrypt_text(self, text: str) -> str:\n",
    "        \"\"\"Perform encryption of text by randomly mapping each letter to other letter in alphabet\n",
    "\n",
    "        Args:\n",
    "            text (str): input text to encrypt\n",
    "\n",
    "        Returns:\n",
    "            str: encrypted text\n",
    "        \"\"\"\n",
    "        text_cleaned = self.regex_pattern.sub(\"\", text.lower())\n",
    "        shuffled_alphabet = list(self.alphabet)\n",
    "        random.shuffle(shuffled_alphabet)\n",
    "        random_cifer = dict(zip(list(self.alphabet), shuffled_alphabet))\n",
    "        encrypted_text = self.encrypt_or_decrypt(text_cleaned, random_cifer)\n",
    "        return encrypted_text\n",
    "\n",
    "    def score_cipher(self, cipher: dict, encrypted: str) -> float:\n",
    "        \"\"\"Score current cipher given encrypted text. The higher score the better\n",
    "\n",
    "        Args:\n",
    "            cipher (dict): proposed cipher to score\n",
    "            encrypted (str): encrypted text\n",
    "\n",
    "        Returns:\n",
    "            (float or str): cipher score or decrypted sample\n",
    "        \"\"\"\n",
    "        decrypted = self.encrypt_or_decrypt(\n",
    "            encrypted, {v: k for k, v in cipher.items()}\n",
    "        )\n",
    "        \n",
    "        score = 0\n",
    "        for i in range(len(decrypted) - 1):\n",
    "            first_symbol = self.char_index_mapping[decrypted[i]]\n",
    "            second_symbol = self.char_index_mapping[decrypted[i + 1]]\n",
    "            score += np.log(self.empirical_frequences[first_symbol][second_symbol])\n",
    "\n",
    "        return score\n",
    "\n",
    "    def process_decryption(self, encrypted: str, iters: int = 5000, verbose=500) -> str:\n",
    "        \"\"\"Process text decryption using MCMC algorithm with random cipher permutations\n",
    "\n",
    "        Args:\n",
    "            encrypted (str): encrypted text\n",
    "            iters (int, optional): _description_. Defaults to 5000.\n",
    "            verbose (int, optional): _description_. Defaults to 500.\n",
    "\n",
    "        Returns:\n",
    "            str: _description_\n",
    "        \"\"\"\n",
    "        assert self.emp_freq_prepared, \"Prepare empirical frequences first.\"\n",
    "        # Initialize with a random mapping\n",
    "        shuffled_letters = list(self.alphabet)\n",
    "        random.shuffle(shuffled_letters)\n",
    "        current_cifer = dict(zip(shuffled_letters, list(self.alphabet)))\n",
    "        current_score = self.score_cipher(current_cifer, encrypted)\n",
    "\n",
    "        best_cifer, best_score = current_cifer.copy(), current_score\n",
    "        for i in range(0, iters):\n",
    "            # Create proposal from f by random transposition of 2 letters\n",
    "            r1, r2 = np.random.choice(list(shuffled_letters), 2, replace=True)\n",
    "            new_cifer = current_cifer.copy()\n",
    "            new_cifer[r1] = current_cifer[r2]\n",
    "            new_cifer[r2] = current_cifer[r1]\n",
    "            new_score = self.score_cipher(new_cifer, encrypted)\n",
    "\n",
    "            # Decide to accept new proposal\n",
    "            if new_score > current_score or random.uniform(0, 1) < np.exp(\n",
    "                new_score - current_score\n",
    "            ):\n",
    "                current_cifer = new_cifer.copy()\n",
    "                current_score = new_score\n",
    "\n",
    "            if new_score > best_score:\n",
    "                best_score = new_score\n",
    "                best_cifer = new_cifer.copy()\n",
    "\n",
    "            # Print out progress\n",
    "            if i % 500 == 0 and verbose:\n",
    "                assert (\n",
    "                    type(verbose) is int and verbose > 0\n",
    "                ), \"Select verbose=False or pass positive integer\"\n",
    "                \n",
    "                if i % verbose == 0:\n",
    "                    \n",
    "                    best_attempt_smpl = self.encrypt_or_decrypt(\n",
    "                        encrypted, \n",
    "                        {v: k for k, v in best_cifer.items()}\n",
    "                    )[:100]\n",
    "                    \n",
    "                    print(i, \":\\t\", best_attempt_smpl)\n",
    "\n",
    "        # Save best mapping\n",
    "        cipher_alphabet = \"\".join([k for k in sorted(best_cifer.keys())])\n",
    "        plaintext_alphabet = \"\".join([best_cifer[k] for k in cipher_alphabet])\n",
    "        mapping = dict(zip(plaintext_alphabet, cipher_alphabet))\n",
    "\n",
    "        decrypted_text = self.encrypt_or_decrypt(encrypted, mapping)\n",
    "\n",
    "        return decrypted_text"
   ]
  },
  {
   "cell_type": "code",
   "execution_count": 21,
   "metadata": {},
   "outputs": [
    {
     "name": "stdout",
     "output_type": "stream",
     "text": [
      "Encrypted (first 500):\n",
      " dquzrycdvyxrgunnungyloygrlyirwsyluwreyohyvullungyxsymrwyvuvlrwyonylmryxdnjydneyohymdiungynolmungyloyeoyonzryowylcuzryvmrymdeyfrrfreyunloylmryxoojymrwyvuvlrwycdvywrdeungyxblyulymdeynoyfuzlbwrvyowyzonirwvdluonvyunyulydneycmdlyuvylmrybvryohydyxoojylmobgmlydquzryculmoblyfuzlbwrvyowyzonirwvdluonvoyvmrycdvyzonvuerwungyunymrwyocnypuneydvycrqqydvyvmryzobqeyhowylmrymolyedsypderymrwyhrrqyirwsyvqrrfsydneyvlbfueycmrlmrwylmryfqrdvbwryohypdjungydyeduvszmdunycobqeyxrycowlmylmrylwobxqryohygrllungybfydneyfuzjung\n",
      "\n",
      "0 :\t teijm ptv lmyiooioy zw ymz hmnk zinmf wx vizzioy lk cmn vivzmn wo zcm ltod tof wx cthioy owzcioy zw \n",
      "500 :\t udicr hus frnieeien ty nrt prak tiarg yl sittien fk ora sistra ye tor fuev ueg yl oupien eytoien ty \n",
      "1000 :\t osige cor pefillilf ta fet menk tined ay rittilf pk hen rirten al the polv old ay homilf lathilf ta \n",
      "1500 :\t alice kas beginning to get wery tired of sitting by her sister on the banv and of hawing nothing to \n",
      "2000 :\t alice was beginning to get very tired of sitting by her sister on the bank and of having nothing to \n",
      "2500 :\t alice was beginning to get very tired of sitting by her sister on the bank and of having nothing to \n",
      "3000 :\t alice was beginning to get very tired of sitting by her sister on the bank and of having nothing to \n",
      "3500 :\t alice was beginning to get very tired of sitting by her sister on the bank and of having nothing to \n",
      "4000 :\t alice was beginning to get very tired of sitting by her sister on the bank and of having nothing to \n",
      "4500 :\t alice was beginning to get very tired of sitting by her sister on the bank and of having nothing to \n",
      "\n",
      "Decrypted (first 500):\n",
      " alice was beginning to get very tired of sitting by her sister on the bank and of having nothing to do once or twice she had peeped into the book her sister was reading but it had no pictures or conversations in it and what is the use of a book thought alice without pictures or conversationso she was considering in her own mind as well as she could for the hot day made her feel very sleepy and stupid whether the pleasure of making a daisychain would be worth the trouble of getting up and picking\n",
      "CPU times: user 13.2 s, sys: 52.2 ms, total: 13.3 s\n",
      "Wall time: 13.3 s\n"
     ]
    }
   ],
   "source": [
    "%%time\n",
    "\n",
    "enigma = EnigmaForDummies()\n",
    "enigma.prepare_empirical_freq_normalized(\"war_and_peace.txt\")\n",
    "\n",
    "plain_text = \"\"\"\n",
    "Alice was beginning to get very tired of sitting by her sister on the bank, and of having nothing to do: once or twice she had peeped into the book her sister was reading, but it had no pictures or conversations in it, 'and what is the use of a book,' thought Alice 'without pictures or conversation?'\n",
    "So she was considering in her own mind (as well as she could, for the hot day made her feel very sleepy and stupid), whether the pleasure of making a daisy-chain would be worth the trouble of getting up and picking the daisies, when suddenly a White Rabbit with pink eyes ran close by her.\n",
    "There was nothing so very remarkable in that; nor did Alice think it so very much out of the way to hear the Rabbit say to itself, 'Oh dear! Oh dear! I shall be late!' (when she thought it over afterwards, it occurred to her that she ought to have wondered at this, but at the time it all seemed quite natural); but when the Rabbit actually took a watch out of its waistcoat-pocket, and looked at it, and then hurried on, Alice started to her feet, for it flashed across her mind that she had never before see a rabbit with either a waistcoat-pocket, or a watch to take out of it, and burning with curiosity, she ran across the field after it, and fortunately was just in time to see it pop down a large rabbit-hole under the hedge.\n",
    "In another moment down went Alice after it, never once considering how in the world she was to get out again.\n",
    "The rabbit-hole went straight on like a tunnel for some way, and then dipped suddenly down, so suddenly that Alice had not a moment to think about stopping herself before she found herself falling down a very deep well.\n",
    "\"\"\"\n",
    "encrypted = enigma.encrypt_text(plain_text)\n",
    "print(\"Encrypted (first 500):\\n\", encrypted[:500], end=\"\\n\\n\")\n",
    "\n",
    "decrypted = enigma.process_decryption(encrypted)\n",
    "print(\"\\nDecrypted (first 500):\\n\", decrypted[:500])"
   ]
  },
  {
   "cell_type": "markdown",
   "metadata": {},
   "source": [
    "**As you can see, decoder stabilized after 1500-2000 iterations and provided a good result in the end. Whole process including parsing war_and_peace took only 13.3 seconds to complete on my laptop (hardware dependent though).**  \n",
    "_NB: convergence speed of MCMC depends on initiation luck. So it may be needed to relaunch the decoder a couple of times to achieve best result_"
   ]
  },
  {
   "cell_type": "code",
   "execution_count": null,
   "metadata": {},
   "outputs": [],
   "source": []
  }
 ],
 "metadata": {
  "kernelspec": {
   "display_name": "Python 3 (ipykernel)",
   "language": "python",
   "name": "python3"
  },
  "language_info": {
   "codemirror_mode": {
    "name": "ipython",
    "version": 3
   },
   "file_extension": ".py",
   "mimetype": "text/x-python",
   "name": "python",
   "nbconvert_exporter": "python",
   "pygments_lexer": "ipython3",
   "version": "3.9.16"
  },
  "varInspector": {
   "cols": {
    "lenName": 16,
    "lenType": 16,
    "lenVar": 40
   },
   "kernels_config": {
    "python": {
     "delete_cmd_postfix": "",
     "delete_cmd_prefix": "del ",
     "library": "var_list.py",
     "varRefreshCmd": "print(var_dic_list())"
    },
    "r": {
     "delete_cmd_postfix": ") ",
     "delete_cmd_prefix": "rm(",
     "library": "var_list.r",
     "varRefreshCmd": "cat(var_dic_list()) "
    }
   },
   "types_to_exclude": [
    "module",
    "function",
    "builtin_function_or_method",
    "instance",
    "_Feature"
   ],
   "window_display": false
  }
 },
 "nbformat": 4,
 "nbformat_minor": 4
}
