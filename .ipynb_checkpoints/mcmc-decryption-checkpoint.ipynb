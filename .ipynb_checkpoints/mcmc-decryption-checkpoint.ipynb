{
 "cells": [
  {
   "cell_type": "markdown",
   "metadata": {},
   "source": [
    "# Ciphertext Decryption Using MCMC"
   ]
  },
  {
   "cell_type": "code",
   "execution_count": 19,
   "metadata": {
    "tags": []
   },
   "outputs": [],
   "source": [
    "import random\n",
    "import numpy as np\n",
    "import re\n",
    "from collections import Counter\n",
    "import string"
   ]
  },
  {
   "cell_type": "code",
   "execution_count": 150,
   "metadata": {},
   "outputs": [],
   "source": [
    "def encrypt(text, plaintext_alphabet, cipher_alphabet):\n",
    "    enc_key = dict(zip(list(plaintext_alphabet),list(cipher_alphabet)))\n",
    "    encrypted = \"\".join([enc_key[s] for s in text])\n",
    "    return encrypted\n",
    "\n",
    "def decrypt(text, plaintext_alphabet, cipher_alphabet):\n",
    "    dec_key = dict(zip(list(cipher_alphabet),list(plaintext_alphabet)))\n",
    "    decrypted = \"\".join([dec_key[s] for s in text])\n",
    "    return decrypted"
   ]
  },
  {
   "cell_type": "code",
   "execution_count": 151,
   "metadata": {
    "tags": []
   },
   "outputs": [],
   "source": [
    "def prepare_empirical_normalized(path_to_file):\n",
    "    char_bigram_counts = Counter()\n",
    "\n",
    "    with open(path_to_file, encoding='utf-8') as f:\n",
    "        for line in f:\n",
    "            pattern = re.compile('[^a-z ]')\n",
    "            clean_line = np.array(list(pattern.sub('',line.lower())))\n",
    "            transitions = clean_line.repeat(2)[1:-1].reshape(-1, 2)\n",
    "            for i, j in transitions:\n",
    "                char_bigram_counts[(i, j)] +=1\n",
    "\n",
    "    letters = [\" \"] + list(string.ascii_lowercase)\n",
    "    unigram_to_index = dict(zip(letters, range(len(letters))))\n",
    "\n",
    "    # Create transition matrix\n",
    "    n = len(unigram_to_index)\n",
    "    transition_matrix = np.ones((n,n)) + 1\n",
    "        \n",
    "    for k in char_bigram_counts.keys():\n",
    "        transition_matrix[unigram_to_index[k[0]]][unigram_to_index[k[1]]] = char_bigram_counts[k]\n",
    "\n",
    "    # normalize rows\n",
    "    row_sums = transition_matrix.sum(axis=1)\n",
    "    empirical_frequences = transition_matrix / row_sums[:, np.newaxis]\n",
    "\n",
    "    return empirical_frequences"
   ]
  },
  {
   "cell_type": "code",
   "execution_count": 152,
   "metadata": {
    "tags": []
   },
   "outputs": [],
   "source": [
    "def score_cipher(cipher, char_index_map, ciphertext, transition_mtx):\n",
    "    keys = \"\".join(list(cipher.keys()))\n",
    "    values = \"\".join(list(cipher.values()))\n",
    "    decrypted = decrypt(ciphertext, values, keys)\n",
    "    score = 0\n",
    "    for i in range(len(decrypted) - 1):\n",
    "        \n",
    "        # If bigram contains a character not part of the encryption, assign it a uniform transition prob\n",
    "        score += np.log(transition_mtx[char_index_map[decrypted[i]]][char_index_map[decrypted[i+1]]])\n",
    "        \n",
    "    return {\"score\":score, \"attempt\":decrypted[:100]} "
   ]
  },
  {
   "cell_type": "code",
   "execution_count": 153,
   "metadata": {
    "tags": []
   },
   "outputs": [],
   "source": [
    "def process_decryption(ciphertext, usual_alphabet,code_space, trans_mtx, char_index_mapping, iters=2500):\n",
    "\n",
    "    # Initialize with a random mapping\n",
    "    current_cifer = dict(zip(list(code_space),list(usual_alphabet)))\n",
    "    current_score = score_cipher(current_cifer, char_index_mapping, ciphertext, trans_mtx)['score']\n",
    "    \n",
    "    best_cifer, best_score = current_cifer.copy(), current_score\n",
    "    for i in range(0,iters):\n",
    "\n",
    "        # Create proposal from f by random transposition of 2 letters\n",
    "        r1, r2 = np.random.choice(list(code_space), 2, replace=True)\n",
    "        new_cifer = current_cifer.copy()\n",
    "        new_cifer[r1] = current_cifer[r2]\n",
    "        new_cifer[r2] = current_cifer[r1]\n",
    "        new_score = score_cipher(new_cifer, char_index_mapping, ciphertext, trans_mtx)['score']\n",
    "\n",
    "        # Decide to accept new proposal\n",
    "        if new_score > current_score or random.uniform(0,1) < np.exp(new_score - current_score):\n",
    "            current_cifer = new_cifer.copy()\n",
    "            current_score = new_score\n",
    "            \n",
    "        if new_score > best_score:\n",
    "            best_score = new_score\n",
    "            best_cifer = new_cifer.copy()\n",
    "        \n",
    "        # Print out progress\n",
    "        if i % 500 == 0: \n",
    "            best_attempt = score_cipher(best_cifer, char_index_mapping, ciphertext, trans_mtx)['attempt']\n",
    "            print(\"iter:\", i, best_attempt)\n",
    "\n",
    "\n",
    "    # Save best mapping\n",
    "    cipher_alphabet = \"\".join([k for k in sorted(best_cifer.keys())])\n",
    "    plaintext_alphabet = \"\".join([best_cifer[k] for k in cipher_alphabet])\n",
    "    \n",
    "    best_attempt = decrypt(ciphertext,plaintext_alphabet, cipher_alphabet)\n",
    "    \n",
    "    return best_attempt"
   ]
  },
  {
   "cell_type": "code",
   "execution_count": 154,
   "metadata": {},
   "outputs": [],
   "source": [
    "text = \"\"\"\n",
    "Alice was beginning to get very tired of sitting by her sister on the bank, and of having nothing to do: once or twice she had peeped into the book her sister was reading, but it had no pictures or conversations in it, 'and what is the use of a book,' thought Alice 'without pictures or conversation?'\n",
    "So she was considering in her own mind (as well as she could, for the hot day made her feel very sleepy and stupid), whether the pleasure of making a daisy-chain would be worth the trouble of getting up and picking the daisies, when suddenly a White Rabbit with pink eyes ran close by her.\n",
    "There was nothing so very remarkable in that; nor did Alice think it so very much out of the way to hear the Rabbit say to itself, 'Oh dear! Oh dear! I shall be late!' (when she thought it over afterwards, it occurred to her that she ought to have wondered at this, but at the time it all seemed quite natural); but when the Rabbit actually took a watch out of its waistcoat-pocket, and looked at it, and then hurried on, Alice started to her feet, for it flashed across her mind that she had never before see a rabbit with either a waistcoat-pocket, or a watch to take out of it, and burning with curiosity, she ran across the field after it, and fortunately was just in time to see it pop down a large rabbit-hole under the hedge.\n",
    "In another moment down went Alice after it, never once considering how in the world she was to get out again.\n",
    "The rabbit-hole went straight on like a tunnel for some way, and then dipped suddenly down, so suddenly that Alice had not a moment to think about stopping herself before she found herself falling down a very deep well.\n",
    "\"\"\"\n",
    "regex_pattern = '[^a-z ]'\n",
    "pattern = re.compile(test_pattern)\n",
    "text_cleaned = pattern.sub('', text.lower())\n",
    "\n",
    "# Generate random code space\n",
    "en_alphabet = string.ascii_lowercase + \" \"\n",
    "tmp = list(en_alphabet)\n",
    "random.shuffle(tmp)\n",
    "cipher_alphabet = \"\".join(tmp)\n",
    "\n",
    "# Display the true key\n",
    "encrypted = encrypt(text_cleaned, en_alphabet, cipher_alphabet)\n",
    "\n",
    "# Compute english bigram frequencies from a reference text\n",
    "empirical_frequences = prepare_empirical_normalized('war_and_peace.txt')"
   ]
  },
  {
   "cell_type": "code",
   "execution_count": 156,
   "metadata": {},
   "outputs": [
    {
     "name": "stdout",
     "output_type": "stream",
     "text": [
      "iter: 0 w ehifywvftipeccecpfkmfpikfjizsfkezixfmrfvekkecpftsfdizfvevkizfmcfkdiftwcofwcxfmrfdwjecpfcmkdecpfkmf\n",
      "iter: 500 ulie ofurog pissisponaop nob chonic toavorinnispoghod corirn coasond oguskoustoavodubisposandisponao\n",
      "iter: 1000 ilako mir cohassash ne hon pofg nafot ev rannash cg dof rarnof es ndo cisy ist ev dipash sendash ne \n",
      "iter: 1500 alige haw pekissisk no ken very niret of winnisk py der wiwner os nde pasm ast of davisk sondisk no \n",
      "iter: 2000 alice maf bevinninv so ves hery sired ow fissinv by ter fifser on ste bank and ow tahinv nostinv so \n",
      "iter: 2500 alice fat peginning so ges mery sired ow tissing py her titser on she pank and ow haming noshing so \n",
      "iter: 3000 alice was peginning to get very tired of sitting py her sister on the pank and of having nothing to \n",
      "iter: 3500 alice was peginning to get very tired of sitting py her sister on the pank and of having nothing to \n",
      "iter: 4000 alice was peginning to get very tired of sitting py her sister on the pank and of having nothing to \n",
      "iter: 4500 alice was beginning to get very tired of sitting by her sister on the bank and of having nothing to \n",
      "attempted decryption:\n",
      "alice was beginning to get very tired of sitting by her sister on the bank and of having nothing to do once or twice she had peeped into the book her sister was reading but it had no pictures or conversations in it and what is the use of a book thought alice without pictures or conversationso she was considering in her own mind as well as she could for the hot day made her feel very sleepy and stupid whether the pleasure of making a daisychain would be worth the trouble of getting up and picking the daisies when suddenly a white rabbit with pink eyes ran close by herthere was nothing so very remarkable in that nor did alice think it so very much out of the way to hear the rabbit say to itself oh dear oh dear i shall be late when she thought it over afterwards it occurred to her that she ought to have wondered at this but at the time it all seemed quite natural but when the rabbit actually took a watch out of its waistcoatpocket and looked at it and then hurried on alice started to her feet for it flashed across her mind that she had never before see a rabbit with either a waistcoatpocket or a watch to take out of it and burning with curiosity she ran across the field after it and fortunately was just in time to see it pop down a large rabbithole under the hedgein another moment down went alice after it never once considering how in the world she was to get out againthe rabbithole went straight on like a tunnel for some way and then dipped suddenly down so suddenly that alice had not a moment to think about stopping herself before she found herself falling down a very deep well\n"
     ]
    }
   ],
   "source": [
    "init = list(en_alphabet).copy()\n",
    "random.shuffle(init)\n",
    "\n",
    "c_i_map = dict(zip([' '] + list(string.ascii_lowercase), range(27)))\n",
    "decrypted_text = process_decryption(encrypted, en_alphabet, init, empirical_frequences, c_i_map, iters=5000)\n",
    "\n",
    "print(\"attempted decryption:\")\n",
    "print(decrypted_text)"
   ]
  },
  {
   "cell_type": "code",
   "execution_count": null,
   "metadata": {},
   "outputs": [],
   "source": []
  }
 ],
 "metadata": {
  "anaconda-cloud": {},
  "kernelspec": {
   "display_name": "Python 3 (ipykernel)",
   "language": "python",
   "name": "python3"
  },
  "language_info": {
   "codemirror_mode": {
    "name": "ipython",
    "version": 3
   },
   "file_extension": ".py",
   "mimetype": "text/x-python",
   "name": "python",
   "nbconvert_exporter": "python",
   "pygments_lexer": "ipython3",
   "version": "3.9.16"
  }
 },
 "nbformat": 4,
 "nbformat_minor": 4
}
