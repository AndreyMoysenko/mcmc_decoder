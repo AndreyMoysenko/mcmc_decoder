{
 "cells": [
  {
   "cell_type": "markdown",
   "metadata": {},
   "source": [
    "# Ciphertext Decryption Using MCMC"
   ]
  },
  {
   "cell_type": "code",
   "execution_count": 19,
   "metadata": {
    "tags": []
   },
   "outputs": [],
   "source": [
    "import random\n",
    "import numpy as np\n",
    "import re\n",
    "import string"
   ]
  },
  {
   "cell_type": "code",
   "execution_count": 201,
   "metadata": {},
   "outputs": [],
   "source": [
    "def encrypt_or_decrypt(text: str, mapping: dict) -> str:\n",
    "        transformed_text = \"\".join([mapping[s] for s in text])\n",
    "        return transformed_text"
   ]
  },
  {
   "cell_type": "code",
   "execution_count": 202,
   "metadata": {
    "tags": []
   },
   "outputs": [],
   "source": [
    "def prepare_empirical_freq_normalized(path_to_file):\n",
    "    #Dictionary to store bigram pairs counts\n",
    "    char_bigram_counts = {}\n",
    "\n",
    "    with open(path_to_file, encoding='utf-8') as f:\n",
    "        for line in f:\n",
    "            #pre-process line\n",
    "            pattern = re.compile('[^a-z ]')\n",
    "            clean_line = np.array(list(pattern.sub('',line.lower())))\n",
    "            \n",
    "            #create symbols transition array\n",
    "            transitions = clean_line.repeat(2)[1:-1].reshape(-1, 2)\n",
    "            \n",
    "            #count every symbols transition met in line\n",
    "            for i, j in transitions:\n",
    "                char_bigram_counts[(i, j)] = char_bigram_counts.setdefault((i, j), 0) + 1\n",
    "    \n",
    "    #create letters encoder\n",
    "    letters = [\" \"] + list(string.ascii_lowercase)\n",
    "    unigram_to_index = dict(zip(letters, range(len(letters))))\n",
    "\n",
    "    # Create transition matrix\n",
    "    n = len(unigram_to_index)\n",
    "    transition_matrix = np.ones((n,n)) + 1\n",
    "    \n",
    "    #fill in transition matrix for each pair\n",
    "    for s_pair in char_bigram_counts.keys():\n",
    "        transition_matrix[unigram_to_index[s_pair[0]]][unigram_to_index[s_pair[1]]] = char_bigram_counts[s_pair]\n",
    "\n",
    "    #normalize matrix rows\n",
    "    row_sums = transition_matrix.sum(axis=1)\n",
    "    empirical_frequences = transition_matrix / row_sums[:, np.newaxis]\n",
    "\n",
    "    return empirical_frequences"
   ]
  },
  {
   "cell_type": "code",
   "execution_count": 203,
   "metadata": {
    "tags": []
   },
   "outputs": [],
   "source": [
    "def score_cipher(cipher, char_index_map, encrypted, transition_mtx, return_sample=False):\n",
    "    decrypted = encrypt_or_decrypt(encrypted, {v:k for k,v in cipher.items()})\n",
    "    score = 0\n",
    "    for i in range(len(decrypted) - 1):\n",
    "        score += np.log(transition_mtx[char_index_map[decrypted[i]]][char_index_map[decrypted[i+1]]])\n",
    "        \n",
    "    return decrypted[:100] if return_sample else score"
   ]
  },
  {
   "cell_type": "code",
   "execution_count": null,
   "metadata": {},
   "outputs": [],
   "source": []
  },
  {
   "cell_type": "code",
   "execution_count": 204,
   "metadata": {
    "tags": []
   },
   "outputs": [],
   "source": [
    "def process_decryption(encrypted, usual_alphabet,code_space, trans_mtx, char_index_mapping, iters=2500):\n",
    "\n",
    "    # Initialize with a random mapping\n",
    "    current_cifer = dict(zip(list(code_space),list(usual_alphabet)))\n",
    "    current_score = score_cipher(current_cifer, char_index_mapping, encrypted, trans_mtx)\n",
    "    \n",
    "    best_cifer, best_score = current_cifer.copy(), current_score\n",
    "    for i in range(0,iters):\n",
    "\n",
    "        # Create proposal from f by random transposition of 2 letters\n",
    "        r1, r2 = np.random.choice(list(code_space), 2, replace=True)\n",
    "        new_cifer = current_cifer.copy()\n",
    "        new_cifer[r1] = current_cifer[r2]\n",
    "        new_cifer[r2] = current_cifer[r1]\n",
    "        new_score = score_cipher(new_cifer, char_index_mapping, encrypted, trans_mtx)\n",
    "\n",
    "        # Decide to accept new proposal\n",
    "        if new_score > current_score or random.uniform(0,1) < np.exp(new_score - current_score):\n",
    "            current_cifer = new_cifer.copy()\n",
    "            current_score = new_score\n",
    "            \n",
    "        if new_score > best_score:\n",
    "            best_score = new_score\n",
    "            best_cifer = new_cifer.copy()\n",
    "        \n",
    "        # Print out progress\n",
    "        if i % 500 == 0: \n",
    "            best_attempt_smpl = score_cipher(best_cifer, char_index_mapping, encrypted, trans_mtx, return_sample=True)\n",
    "            print(i, ':\\t', best_attempt_smpl)\n",
    "\n",
    "\n",
    "    # Save best mapping\n",
    "    cipher_alphabet = \"\".join([k for k in sorted(best_cifer.keys())])\n",
    "    plaintext_alphabet = \"\".join([best_cifer[k] for k in cipher_alphabet])\n",
    "    mapping = dict(zip(plaintext_alphabet, cipher_alphabet))\n",
    "    \n",
    "    best_attempt = encrypt_or_decrypt(ciphertext, mapping)\n",
    "    \n",
    "    return best_attempt"
   ]
  },
  {
   "cell_type": "code",
   "execution_count": 205,
   "metadata": {},
   "outputs": [],
   "source": [
    "text = \"\"\"\n",
    "Alice was beginning to get very tired of sitting by her sister on the bank, and of having nothing to do: once or twice she had peeped into the book her sister was reading, but it had no pictures or conversations in it, 'and what is the use of a book,' thought Alice 'without pictures or conversation?'\n",
    "So she was considering in her own mind (as well as she could, for the hot day made her feel very sleepy and stupid), whether the pleasure of making a daisy-chain would be worth the trouble of getting up and picking the daisies, when suddenly a White Rabbit with pink eyes ran close by her.\n",
    "There was nothing so very remarkable in that; nor did Alice think it so very much out of the way to hear the Rabbit say to itself, 'Oh dear! Oh dear! I shall be late!' (when she thought it over afterwards, it occurred to her that she ought to have wondered at this, but at the time it all seemed quite natural); but when the Rabbit actually took a watch out of its waistcoat-pocket, and looked at it, and then hurried on, Alice started to her feet, for it flashed across her mind that she had never before see a rabbit with either a waistcoat-pocket, or a watch to take out of it, and burning with curiosity, she ran across the field after it, and fortunately was just in time to see it pop down a large rabbit-hole under the hedge.\n",
    "In another moment down went Alice after it, never once considering how in the world she was to get out again.\n",
    "The rabbit-hole went straight on like a tunnel for some way, and then dipped suddenly down, so suddenly that Alice had not a moment to think about stopping herself before she found herself falling down a very deep well.\n",
    "\"\"\"\n",
    "regex_pattern = '[^a-z ]'\n",
    "pattern = re.compile(test_pattern)\n",
    "text_cleaned = pattern.sub('', text.lower())\n",
    "\n",
    "# Generate random code space\n",
    "en_alphabet = \" \"+string.ascii_lowercase\n",
    "tmp = list(en_alphabet)\n",
    "random.shuffle(tmp)\n",
    "random_cifer = dict(zip(list(en_alphabet), tmp))\n",
    "\n",
    "# Display the true key\n",
    "encrypted = encrypt_or_decrypt(text_cleaned, random_cifer)\n",
    "\n",
    "# Compute english bigram frequencies from a reference text\n",
    "empirical_frequences = prepare_empirical_freq_normalized('war_and_peace.txt')"
   ]
  },
  {
   "cell_type": "code",
   "execution_count": 206,
   "metadata": {},
   "outputs": [
    {
     "name": "stdout",
     "output_type": "stream",
     "text": [
      "0 :\t yolpvbcydbxv lssls bfkb vfbrvejbflevnbkgbdlffls bxjbqvebdldfvebksbfqvbxysabysnbkgbqyrls bskfqls bfkb\n",
      "500 :\t aducr haf brwunnunw ti wrt grey tuers im futtunw by ore fuftre in tor bank ans im oagunw nitounw ti \n",
      "1000 :\t asice paf beginning to get wery tired om fitting by her fifter on the bank and om hawing nothing to \n",
      "1500 :\t alice was peginning to get bery tired of sitting py her sister on the pank and of habing nothing to \n",
      "2000 :\t alice was peginning to get bery tired of sitting py her sister on the pank and of habing nothing to \n",
      "2500 :\t alice was peginning to get very tired of sitting py her sister on the pank and of having nothing to \n",
      "3000 :\t alice was peginning to get very tired of sitting py her sister on the pank and of having nothing to \n",
      "3500 :\t alice was beginning to get very tired of sitting by her sister on the bank and of having nothing to \n",
      "4000 :\t alice was beginning to get very tired of sitting by her sister on the bank and of having nothing to \n",
      "4500 :\t alice was beginning to get very tired of sitting by her sister on the bank and of having nothing to \n",
      "attempted decryption:\n",
      "bjulxvfbpvgxsuwwuwsvcqvsxcvoxnkvcunxivqhvpuccuwsvgkvzxnvpupcxnvqwvczxvgbwdvbwivqhvzbouwsvwqczuwsvcqviqvqwlxvqnvcfulxvpzxvzbivtxxtxivuwcqvczxvgqqdvzxnvpupcxnvfbpvnxbiuwsvgrcvucvzbivwqvtulcrnxpvqnvlqwoxnpbcuqwpvuwvucvbwivfzbcvupvczxvrpxvqhvbvgqqdvczqrszcvbjulxvfuczqrcvtulcrnxpvqnvlqwoxnpbcuqwpqvpzxvfbpvlqwpuixnuwsvuwvzxnvqfwvmuwivbpvfxjjvbpvpzxvlqrjivhqnvczxvzqcvibkvmbixvzxnvhxxjvoxnkvpjxxtkvbwivpcrtuivfzxczxnvczxvtjxbprnxvqhvmbduwsvbvibupklzbuwvfqrjivgxvfqnczvczxvcnqrgjxvqhvsxccuwsvrtvbwivtulduwsvczxvibupuxpvfzxwvpriixwjkvbvfzucxvnbggucvfuczvtuwdvxkxpvnbwvljqpxvgkvzxnczxnxvfbpvwqczuwsvpqvoxnkvnxmbndbgjxvuwvczbcvwqnviuivbjulxvczuwdvucvpqvoxnkvmrlzvqrcvqhvczxvfbkvcqvzxbnvczxvnbggucvpbkvcqvucpxjhvqzvixbnvqzvixbnvuvpzbjjvgxvjbcxvfzxwvpzxvczqrszcvucvqoxnvbhcxnfbnipvucvqllrnnxivcqvzxnvczbcvpzxvqrszcvcqvzboxvfqwixnxivbcvczupvgrcvbcvczxvcumxvucvbjjvpxxmxiv rucxvwbcrnbjvgrcvfzxwvczxvnbggucvblcrbjjkvcqqdvbvfbclzvqrcvqhvucpvfbupclqbctqldxcvbwivjqqdxivbcvucvbwivczxwvzrnnuxivqwvbjulxvpcbncxivcqvzxnvhxxcvhqnvucvhjbpzxivblnqppvzxnvmuwivczbcvpzxvzbivwxoxnvgxhqnxvpxxvbvnbggucvfuczvxuczxnvbvfbupclqbctqldxcvqnvbvfbclzvcqvcbdxvqrcvqhvucvbwivgrnwuwsvfuczvlrnuqpuckvpzxvnbwvblnqppvczxvhuxjivbhcxnvucvbwivhqncrwbcxjkvfbpverpcvuwvcumxvcqvpxxvucvtqtviqfwvbvjbnsxvnbgguczqjxvrwixnvczxvzxisxuwvbwqczxnvmqmxwcviqfwvfxwcvbjulxvbhcxnvucvwxoxnvqwlxvlqwpuixnuwsvzqfvuwvczxvfqnjivpzxvfbpvcqvsxcvqrcvbsbuwczxvnbgguczqjxvfxwcvpcnbuszcvqwvjudxvbvcrwwxjvhqnvpqmxvfbkvbwivczxwviuttxivpriixwjkviqfwvpqvpriixwjkvczbcvbjulxvzbivwqcvbvmqmxwcvcqvczuwdvbgqrcvpcqttuwsvzxnpxjhvgxhqnxvpzxvhqrwivzxnpxjhvhbjjuwsviqfwvbvoxnkvixxtvfxjj\n"
     ]
    }
   ],
   "source": [
    "init = list(en_alphabet).copy()\n",
    "random.shuffle(init)\n",
    "\n",
    "c_i_map = dict(zip([' '] + list(string.ascii_lowercase), range(27)))\n",
    "decrypted_text = process_decryption(encrypted, en_alphabet, init, empirical_frequences, c_i_map, iters=5000)\n",
    "\n",
    "print(\"attempted decryption:\")\n",
    "print(decrypted_text)"
   ]
  },
  {
   "cell_type": "code",
   "execution_count": null,
   "metadata": {},
   "outputs": [],
   "source": []
  }
 ],
 "metadata": {
  "anaconda-cloud": {},
  "kernelspec": {
   "display_name": "Python 3 (ipykernel)",
   "language": "python",
   "name": "python3"
  },
  "language_info": {
   "codemirror_mode": {
    "name": "ipython",
    "version": 3
   },
   "file_extension": ".py",
   "mimetype": "text/x-python",
   "name": "python",
   "nbconvert_exporter": "python",
   "pygments_lexer": "ipython3",
   "version": "3.9.16"
  }
 },
 "nbformat": 4,
 "nbformat_minor": 4
}
